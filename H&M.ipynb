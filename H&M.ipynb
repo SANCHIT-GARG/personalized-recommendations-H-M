{
 "cells": [
  {
   "cell_type": "code",
   "execution_count": 7,
   "id": "c7bee02e",
   "metadata": {},
   "outputs": [],
   "source": [
    "import pandas as pd"
   ]
  },
  {
   "cell_type": "code",
   "execution_count": 4,
   "id": "95e08cc7",
   "metadata": {},
   "outputs": [],
   "source": [
    "# Reading all the files\n",
    "raw_path = 'C:/Users/siyuf/Documents/00. MiTB/H&M/H&M/'\n",
    "articles = pd.read_csv(raw_path + 'articles.csv')\n",
    "customer = pd.read_csv(raw_path + 'customers.csv')\n",
    "transaction = pd.read_csv(raw_path + 'transactions_train.csv')\n"
   ]
  },
  {
   "cell_type": "code",
   "execution_count": null,
   "id": "75fabdbe",
   "metadata": {},
   "outputs": [],
   "source": []
  },
  {
   "cell_type": "code",
   "execution_count": null,
   "id": "f078ba45",
   "metadata": {},
   "outputs": [],
   "source": []
  }
 ],
 "metadata": {
  "kernelspec": {
   "display_name": "Python 3",
   "language": "python",
   "name": "python3"
  },
  "language_info": {
   "codemirror_mode": {
    "name": "ipython",
    "version": 3
   },
   "file_extension": ".py",
   "mimetype": "text/x-python",
   "name": "python",
   "nbconvert_exporter": "python",
   "pygments_lexer": "ipython3",
   "version": "3.8.8"
  }
 },
 "nbformat": 4,
 "nbformat_minor": 5
}
